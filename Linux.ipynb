{
  "nbformat": 4,
  "nbformat_minor": 0,
  "metadata": {
    "colab": {
      "provenance": []
    },
    "kernelspec": {
      "name": "python3",
      "display_name": "Python 3"
    },
    "language_info": {
      "name": "python"
    }
  },
  "cells": [
    {
      "cell_type": "code",
      "execution_count": null,
      "metadata": {
        "id": "6H1-GgA1jgf2"
      },
      "outputs": [],
      "source": []
    },
    {
      "cell_type": "markdown",
      "source": [
        "# LINUX\n",
        "1. What is Linux?\n",
        "   - Linux is a free,open source, secure operating system that manages computer's hardware & software.\n",
        "\n",
        "2. What is the difference between Hard Link & Soft Link?\n",
        "   - Hard link always points a filename to data on a storage device.\n",
        "   - Soft link always points a file name to another file name, which then points to information on a storage device.\n",
        "\n",
        "3.  What is a Kernel in Linux?\n",
        "    - Kernal is brain of linux. Which acts as interface between Operating system and Hardware.\n",
        "    -> Responsible for:\n",
        "    - Memory allocation, process management, execution, file management, time management, efficient usage of resourcees.\n",
        "\n",
        "4. How do you create a user account?\n",
        "  - To create a user account 'useradd' command is used. It requires root privilage accessed via sudo.  \n",
        "\n",
        "5.  What is the ‘grep’ command used for in Linux?\n",
        "    - Grep command is used for searching within file.\n",
        "\n",
        "6. Step1: Create user p1\n",
        "   - sudo useradd -m p1\n",
        "   Step2: He should be part of 3 groups g1,g2,g3\n",
        "   - sudo groupadd g1\n",
        "     sudo groupadd g2\n",
        "     sudo groupadd g3\n",
        "     sudo usermod -aG g1,g2,g3 p1\n",
        "   Step3: whenever he creates a file automatically in the group section of file grp g1 should come.            \n",
        "          - sudo usermod -g g1 p1\n",
        "     - Set up a shared directory where files automatically belong to g1:\n",
        "          -  sudo mkdir /home/p1/shared\n",
        "             sudo chown p1:g1 /home/p1/shared\n",
        "             sudo chmod 2775 /home/p1/shared  \n",
        "7. Step1:\n",
        "     To create directory\n",
        "      - sudo mkdir /tmp/bg\n",
        "     To create files\n",
        "      - cd /tmp/bg\n",
        "        touch file1.txt\n",
        "        touch file2.txt\n",
        "   Step 2:\n",
        "       mkdir /tmp/bg\n",
        "       chown Abhi:Abhi /tmp/bg\n",
        "       chmod 700 /tmp/bg\n",
        "\n",
        "8. To identify the processes by CPU usage\n",
        "   - htop\n",
        "   to verify process details\n",
        "   - ps -p process ID -o pid,comm,%cpu\n",
        "   to terminate a process\n",
        "   - kill Process ID\n",
        "        \n",
        "\n",
        "    "
      ],
      "metadata": {
        "id": "-fGaCjjhjutd"
      }
    },
    {
      "cell_type": "code",
      "source": [],
      "metadata": {
        "id": "PBThUX-AQlDr"
      },
      "execution_count": null,
      "outputs": []
    },
    {
      "cell_type": "code",
      "source": [],
      "metadata": {
        "id": "Y-RTPu_SM4dT"
      },
      "execution_count": null,
      "outputs": []
    },
    {
      "cell_type": "markdown",
      "source": [],
      "metadata": {
        "id": "UdFm2kAORtph"
      }
    }
  ]
}